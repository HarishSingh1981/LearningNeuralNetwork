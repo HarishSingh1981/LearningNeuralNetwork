{
  "nbformat": 4,
  "nbformat_minor": 0,
  "metadata": {
    "colab": {
      "provenance": [],
      "authorship_tag": "ABX9TyP2wqf3m5y33KI9XyGFKYfL",
      "include_colab_link": true
    },
    "kernelspec": {
      "name": "python3",
      "display_name": "Python 3"
    },
    "language_info": {
      "name": "python"
    },
    "accelerator": "GPU",
    "gpuClass": "standard"
  },
  "cells": [
    {
      "cell_type": "markdown",
      "metadata": {
        "id": "view-in-github",
        "colab_type": "text"
      },
      "source": [
        "<a href=\"https://colab.research.google.com/github/HarishSingh1981/LearningNeuralNetwork/blob/main/Assignment_5.ipynb\" target=\"_parent\"><img src=\"https://colab.research.google.com/assets/colab-badge.svg\" alt=\"Open In Colab\"/></a>"
      ]
    },
    {
      "cell_type": "code",
      "source": [
        "!pip install googleDriveFileDownloader\n",
        "from googleDriveFileDownloader import googleDriveFileDownloader\n",
        "a = googleDriveFileDownloader()\n",
        "#model and dataloader modules\n",
        "#https://drive.google.com/file/d/17yebFq7OEyCkQL7-eFdi9BJwyabmQ49t/view?usp=share_link\n",
        "#https://drive.google.com/file/d/18HB4i0cfZDCxLYUlO1DJu5olPXJvUSHS/view?usp=share_link\n",
        "#https://drive.google.com/file/d/1sT3ECymw79il-7gDhaeprORsUq8DEuKY/view?usp=share_link\n",
        "#https://drive.google.com/file/d/1dc_j_TUsHvrTd4qhBQQfz1l3Dzns6Co6/view?usp=share_link\n",
        "a.downloadFile(\"https://drive.google.com/uc?id=17yebFq7OEyCkQL7-eFdi9BJwyabmQ49t&export=download\")\n",
        "#a.downloadFile(\"https://drive.google.com/uc?id=18HB4i0cfZDCxLYUlO1DJu5olPXJvUSHS&export=download\")\n",
        "#a.downloadFile(\"https://drive.google.com/uc?id=1sT3ECymw79il-7gDhaeprORsUq8DEuKY&export=download\")\n",
        "#a.downloadFile(\"https://drive.google.com/uc?id=1dc_j_TUsHvrTd4qhBQQfz1l3Dzns6Co6&export=download\")"
      ],
      "metadata": {
        "colab": {
          "base_uri": "https://localhost:8080/"
        },
        "id": "DdFRvo851DX7",
        "outputId": "f2beeb39-a413-4e2d-b86a-99795aeefd31"
      },
      "execution_count": 1,
      "outputs": [
        {
          "output_type": "stream",
          "name": "stdout",
          "text": [
            "Looking in indexes: https://pypi.org/simple, https://us-python.pkg.dev/colab-wheels/public/simple/\n",
            "Requirement already satisfied: googleDriveFileDownloader in /usr/local/lib/python3.8/dist-packages (1.2)\n",
            "Requirement already satisfied: beautifulsoup4 in /usr/local/lib/python3.8/dist-packages (from googleDriveFileDownloader) (4.6.3)\n",
            "Download is starting\n",
            "FILENAME ::: model.py\n"
          ]
        },
        {
          "output_type": "execute_result",
          "data": {
            "text/plain": [
              "0"
            ]
          },
          "metadata": {},
          "execution_count": 1
        }
      ]
    },
    {
      "cell_type": "code",
      "source": [
        "import torch\n",
        "from torchvision import datasets, transforms\n",
        "\n",
        "torch.manual_seed(1)\n",
        "batch_size = 128\n",
        "\n",
        "use_cuda = torch.cuda.is_available()\n",
        "device = torch.device(\"cuda\" if use_cuda else \"cpu\")\n",
        "\n",
        "#kwargs = {'num_workers': 4, 'pin_memory': True} if use_cuda else {}\n",
        "kwargs = dict(num_workers= 2, pin_memory= True if use_cuda else False,shuffle=True,batch_size=batch_size)\n",
        "\n",
        "def mnist_train_loader():\n",
        "\ttrain_loader = torch.utils.data.DataLoader(\n",
        "\t\tdatasets.MNIST('../data', train=True, download=True,\n",
        "\t\t\t\t\t\ttransform=transforms.Compose([\n",
        "\t\t\t\t\t\t\ttransforms.ToTensor(),\n",
        "\t\t\t\t\t\t\ttransforms.Normalize((0.1307,), (0.3081,)),\n",
        "\t\t\t\t\t\t\ttransforms.RandomRotation(degrees=7)\n",
        "\t\t\t\t\t\t])),**kwargs)\n",
        "\treturn train_loader\n",
        "\n",
        "def mnist_test_loader():\n",
        "\ttest_loader = torch.utils.data.DataLoader(\n",
        "\t\tdatasets.MNIST('../data', train=False, transform=transforms.Compose([\n",
        "\t\t\t\t\t\t\ttransforms.ToTensor(),\n",
        "\t\t\t\t\t\t\ttransforms.Normalize((0.1307,), (0.3081,))\n",
        "\t\t\t\t\t\t\t#transforms.RandomRotation(degrees=7)\n",
        "\t\t\t\t\t\t])),**kwargs)\n",
        "\treturn test_loader\n"
      ],
      "metadata": {
        "id": "S1jAVqdIH1gT"
      },
      "execution_count": 2,
      "outputs": []
    },
    {
      "cell_type": "code",
      "source": [
        "from tqdm import tqdm\n",
        "import torch.nn.functional as Fn\n",
        "\n",
        "def test(model, device, test_loader):\n",
        "    model.eval()\n",
        "    test_loss = 0\n",
        "    correct = 0\n",
        "    test_accuracy = 0\n",
        "    with torch.no_grad():\n",
        "        for data, target in test_loader:\n",
        "            data, target = data.to(device), target.to(device)\n",
        "            output = model(data)\n",
        "            test_loss += Fn.nll_loss(output, target, reduction='sum').item()  # sum up batch loss\n",
        "            pred = output.argmax(dim=1, keepdim=True)  # get the index of the max log-probability\n",
        "            correct += pred.eq(target.view_as(pred)).sum().item()\n",
        "\n",
        "    test_loss /= len(test_loader.dataset)\n",
        "    test_accuracy = 100*correct/len(test_loader.dataset)\n",
        "    print('\\nTest set: Average loss: {:.4f}, Accuracy: {}/{} ({:.2f}%)\\n'.format(\n",
        "        test_loss, correct, len(test_loader.dataset),\n",
        "        100. * correct / len(test_loader.dataset)))\n",
        "    #print(f'test_loss data type is {type(test_loss)}')\n",
        "    return (test_loss,test_accuracy)\n",
        "\n",
        "def train(model, device, train_loader, optimizer, epoch):\n",
        "    train_loss = 0\n",
        "    correct = 0\n",
        "    processed=0\n",
        "    train_accuracy = 0\n",
        "    model.train()\n",
        "    pbar = tqdm(train_loader)\n",
        "    for batch_idx, (data, target) in enumerate(pbar):\n",
        "        data, target = data.to(device), target.to(device)\n",
        "        optimizer.zero_grad()\n",
        "        output = model(data)\n",
        "        loss = Fn.nll_loss(output, target)\n",
        "        loss.backward()\n",
        "        optimizer.step()\n",
        "        train_loss +=loss\n",
        "        pred = output.argmax(dim=1,keepdim=True)\n",
        "        #need to understand what does it do\n",
        "        correct += pred.eq(target.view_as(pred)).sum().item()\n",
        "        processed += len(data)\n",
        "        pbar.set_description(desc= f'loss={loss.item()} batch_id={batch_idx} Accurary={100*correct/processed:0.2f}')\n",
        "\n",
        "    train_loss /= len(train_loader.dataset)\n",
        "    train_accuracy = 100*correct/len(train_loader.dataset)\n",
        "    #print(f'train_loss data type is {type(train_loss)} and value of train_loss {train_loss.item()}')\n",
        "    return (train_loss.cpu().item(),train_accuracy)\n",
        "   # print('\\nTrain set: Average loss: {:.4f}, Accuracy: {}/{} ({:.0f}%)\\n'.format(\n",
        "     #   train_loss, correct, len(test_loader.dataset),\n",
        "      #  100. * correct / len(train_loader.dataset)))\n",
        "      "
      ],
      "metadata": {
        "id": "fRFtzQorHXgU"
      },
      "execution_count": 3,
      "outputs": []
    },
    {
      "cell_type": "code",
      "execution_count": 11,
      "metadata": {
        "id": "L1X-nBUU41Fw",
        "colab": {
          "base_uri": "https://localhost:8080/",
          "height": 1000
        },
        "outputId": "709c8530-abca-4c59-b0db-cda5c282701f"
      },
      "outputs": [
        {
          "output_type": "stream",
          "name": "stderr",
          "text": [
            "loss=0.633923351764679 batch_id=468 Accurary=48.66: 100%|██████████| 469/469 [00:31<00:00, 15.10it/s]\n"
          ]
        },
        {
          "output_type": "stream",
          "name": "stdout",
          "text": [
            "\n",
            "Test set: Average loss: 0.5614, Accuracy: 9008/10000 (90.08%)\n",
            "\n"
          ]
        },
        {
          "output_type": "stream",
          "name": "stderr",
          "text": [
            "loss=0.21932359039783478 batch_id=468 Accurary=93.08: 100%|██████████| 469/469 [00:31<00:00, 14.97it/s]\n"
          ]
        },
        {
          "output_type": "stream",
          "name": "stdout",
          "text": [
            "\n",
            "Test set: Average loss: 0.1578, Accuracy: 9630/10000 (96.30%)\n",
            "\n"
          ]
        },
        {
          "output_type": "stream",
          "name": "stderr",
          "text": [
            "loss=0.15213899314403534 batch_id=468 Accurary=96.15: 100%|██████████| 469/469 [00:30<00:00, 15.28it/s]\n"
          ]
        },
        {
          "output_type": "stream",
          "name": "stdout",
          "text": [
            "\n",
            "Test set: Average loss: 0.1112, Accuracy: 9709/10000 (97.09%)\n",
            "\n"
          ]
        },
        {
          "output_type": "stream",
          "name": "stderr",
          "text": [
            "loss=0.06946518272161484 batch_id=468 Accurary=96.92: 100%|██████████| 469/469 [00:30<00:00, 15.35it/s]\n"
          ]
        },
        {
          "output_type": "stream",
          "name": "stdout",
          "text": [
            "\n",
            "Test set: Average loss: 0.0786, Accuracy: 9794/10000 (97.94%)\n",
            "\n"
          ]
        },
        {
          "output_type": "stream",
          "name": "stderr",
          "text": [
            "loss=0.1704927682876587 batch_id=468 Accurary=97.50: 100%|██████████| 469/469 [00:30<00:00, 15.34it/s]\n"
          ]
        },
        {
          "output_type": "stream",
          "name": "stdout",
          "text": [
            "\n",
            "Test set: Average loss: 0.0731, Accuracy: 9796/10000 (97.96%)\n",
            "\n"
          ]
        },
        {
          "output_type": "stream",
          "name": "stderr",
          "text": [
            "loss=0.022368913516402245 batch_id=468 Accurary=98.36: 100%|██████████| 469/469 [00:30<00:00, 15.42it/s]\n"
          ]
        },
        {
          "output_type": "stream",
          "name": "stdout",
          "text": [
            "\n",
            "Test set: Average loss: 0.0578, Accuracy: 9843/10000 (98.43%)\n",
            "\n"
          ]
        },
        {
          "output_type": "stream",
          "name": "stderr",
          "text": [
            "loss=0.08415021747350693 batch_id=468 Accurary=98.44: 100%|██████████| 469/469 [00:31<00:00, 14.84it/s]\n"
          ]
        },
        {
          "output_type": "stream",
          "name": "stdout",
          "text": [
            "\n",
            "Test set: Average loss: 0.0568, Accuracy: 9836/10000 (98.36%)\n",
            "\n"
          ]
        },
        {
          "output_type": "stream",
          "name": "stderr",
          "text": [
            "loss=0.0530988872051239 batch_id=468 Accurary=98.46: 100%|██████████| 469/469 [00:30<00:00, 15.46it/s]\n"
          ]
        },
        {
          "output_type": "stream",
          "name": "stdout",
          "text": [
            "\n",
            "Test set: Average loss: 0.0564, Accuracy: 9844/10000 (98.44%)\n",
            "\n"
          ]
        },
        {
          "output_type": "stream",
          "name": "stderr",
          "text": [
            "loss=0.08523213118314743 batch_id=468 Accurary=98.53: 100%|██████████| 469/469 [00:30<00:00, 15.54it/s]\n"
          ]
        },
        {
          "output_type": "stream",
          "name": "stdout",
          "text": [
            "\n",
            "Test set: Average loss: 0.0545, Accuracy: 9853/10000 (98.53%)\n",
            "\n"
          ]
        },
        {
          "output_type": "stream",
          "name": "stderr",
          "text": [
            "loss=0.030249034985899925 batch_id=468 Accurary=98.63: 100%|██████████| 469/469 [00:30<00:00, 15.50it/s]\n"
          ]
        },
        {
          "output_type": "stream",
          "name": "stdout",
          "text": [
            "\n",
            "Test set: Average loss: 0.0535, Accuracy: 9851/10000 (98.51%)\n",
            "\n"
          ]
        },
        {
          "output_type": "stream",
          "name": "stderr",
          "text": [
            "loss=0.06588853895664215 batch_id=468 Accurary=98.67: 100%|██████████| 469/469 [00:30<00:00, 15.46it/s]\n"
          ]
        },
        {
          "output_type": "stream",
          "name": "stdout",
          "text": [
            "\n",
            "Test set: Average loss: 0.0521, Accuracy: 9854/10000 (98.54%)\n",
            "\n"
          ]
        },
        {
          "output_type": "stream",
          "name": "stderr",
          "text": [
            "loss=0.014457806013524532 batch_id=468 Accurary=98.70: 100%|██████████| 469/469 [00:30<00:00, 15.57it/s]\n"
          ]
        },
        {
          "output_type": "stream",
          "name": "stdout",
          "text": [
            "\n",
            "Test set: Average loss: 0.0516, Accuracy: 9859/10000 (98.59%)\n",
            "\n"
          ]
        },
        {
          "output_type": "stream",
          "name": "stderr",
          "text": [
            "loss=0.023020483553409576 batch_id=468 Accurary=98.67: 100%|██████████| 469/469 [00:30<00:00, 15.56it/s]\n"
          ]
        },
        {
          "output_type": "stream",
          "name": "stdout",
          "text": [
            "\n",
            "Test set: Average loss: 0.0519, Accuracy: 9858/10000 (98.58%)\n",
            "\n"
          ]
        },
        {
          "output_type": "stream",
          "name": "stderr",
          "text": [
            "loss=0.028512461110949516 batch_id=468 Accurary=98.73: 100%|██████████| 469/469 [00:31<00:00, 14.85it/s]\n"
          ]
        },
        {
          "output_type": "stream",
          "name": "stdout",
          "text": [
            "\n",
            "Test set: Average loss: 0.0519, Accuracy: 9854/10000 (98.54%)\n",
            "\n"
          ]
        },
        {
          "output_type": "stream",
          "name": "stderr",
          "text": [
            "loss=0.05227003991603851 batch_id=468 Accurary=98.72: 100%|██████████| 469/469 [00:30<00:00, 15.57it/s]\n"
          ]
        },
        {
          "output_type": "stream",
          "name": "stdout",
          "text": [
            "\n",
            "Test set: Average loss: 0.0517, Accuracy: 9854/10000 (98.54%)\n",
            "\n"
          ]
        },
        {
          "output_type": "stream",
          "name": "stderr",
          "text": [
            "loss=0.03897271677851677 batch_id=468 Accurary=98.67: 100%|██████████| 469/469 [00:30<00:00, 15.55it/s]\n"
          ]
        },
        {
          "output_type": "stream",
          "name": "stdout",
          "text": [
            "\n",
            "Test set: Average loss: 0.0516, Accuracy: 9853/10000 (98.53%)\n",
            "\n"
          ]
        },
        {
          "output_type": "stream",
          "name": "stderr",
          "text": [
            "loss=0.07355954498052597 batch_id=468 Accurary=98.70: 100%|██████████| 469/469 [00:30<00:00, 15.63it/s]\n"
          ]
        },
        {
          "output_type": "stream",
          "name": "stdout",
          "text": [
            "\n",
            "Test set: Average loss: 0.0516, Accuracy: 9858/10000 (98.58%)\n",
            "\n"
          ]
        },
        {
          "output_type": "stream",
          "name": "stderr",
          "text": [
            "loss=0.02288898266851902 batch_id=468 Accurary=98.75: 100%|██████████| 469/469 [00:30<00:00, 15.50it/s]\n"
          ]
        },
        {
          "output_type": "stream",
          "name": "stdout",
          "text": [
            "\n",
            "Test set: Average loss: 0.0516, Accuracy: 9858/10000 (98.58%)\n",
            "\n"
          ]
        },
        {
          "output_type": "stream",
          "name": "stderr",
          "text": [
            "loss=0.05328283831477165 batch_id=468 Accurary=98.72: 100%|██████████| 469/469 [00:30<00:00, 15.55it/s]\n"
          ]
        },
        {
          "output_type": "stream",
          "name": "stdout",
          "text": [
            "\n",
            "Test set: Average loss: 0.0515, Accuracy: 9860/10000 (98.60%)\n",
            "\n"
          ]
        },
        {
          "output_type": "stream",
          "name": "stderr",
          "text": [
            "loss=0.030938321724534035 batch_id=468 Accurary=98.70: 100%|██████████| 469/469 [00:30<00:00, 15.42it/s]\n"
          ]
        },
        {
          "output_type": "stream",
          "name": "stdout",
          "text": [
            "\n",
            "Test set: Average loss: 0.0515, Accuracy: 9858/10000 (98.58%)\n",
            "\n"
          ]
        },
        {
          "output_type": "stream",
          "name": "stderr",
          "text": [
            "loss=0.21663574874401093 batch_id=468 Accurary=53.02: 100%|██████████| 469/469 [00:31<00:00, 14.97it/s]\n"
          ]
        },
        {
          "output_type": "stream",
          "name": "stdout",
          "text": [
            "\n",
            "Test set: Average loss: 0.2497, Accuracy: 9442/10000 (94.42%)\n",
            "\n"
          ]
        },
        {
          "output_type": "stream",
          "name": "stderr",
          "text": [
            "loss=0.1315983086824417 batch_id=468 Accurary=94.94: 100%|██████████| 469/469 [00:30<00:00, 15.45it/s]\n"
          ]
        },
        {
          "output_type": "stream",
          "name": "stdout",
          "text": [
            "\n",
            "Test set: Average loss: 0.1050, Accuracy: 9722/10000 (97.22%)\n",
            "\n"
          ]
        },
        {
          "output_type": "stream",
          "name": "stderr",
          "text": [
            "loss=0.09913989156484604 batch_id=468 Accurary=96.83: 100%|██████████| 469/469 [00:30<00:00, 15.47it/s]\n"
          ]
        },
        {
          "output_type": "stream",
          "name": "stdout",
          "text": [
            "\n",
            "Test set: Average loss: 0.0710, Accuracy: 9818/10000 (98.18%)\n",
            "\n"
          ]
        },
        {
          "output_type": "stream",
          "name": "stderr",
          "text": [
            "loss=0.044131550937891006 batch_id=468 Accurary=97.52: 100%|██████████| 469/469 [00:30<00:00, 15.45it/s]\n"
          ]
        },
        {
          "output_type": "stream",
          "name": "stdout",
          "text": [
            "\n",
            "Test set: Average loss: 0.0515, Accuracy: 9856/10000 (98.56%)\n",
            "\n"
          ]
        },
        {
          "output_type": "stream",
          "name": "stderr",
          "text": [
            "loss=0.06251279264688492 batch_id=468 Accurary=97.77: 100%|██████████| 469/469 [00:30<00:00, 15.46it/s]\n"
          ]
        },
        {
          "output_type": "stream",
          "name": "stdout",
          "text": [
            "\n",
            "Test set: Average loss: 0.0597, Accuracy: 9836/10000 (98.36%)\n",
            "\n"
          ]
        },
        {
          "output_type": "stream",
          "name": "stderr",
          "text": [
            "loss=0.12666159868240356 batch_id=468 Accurary=98.65: 100%|██████████| 469/469 [00:30<00:00, 15.43it/s]\n"
          ]
        },
        {
          "output_type": "stream",
          "name": "stdout",
          "text": [
            "\n",
            "Test set: Average loss: 0.0396, Accuracy: 9897/10000 (98.97%)\n",
            "\n"
          ]
        },
        {
          "output_type": "stream",
          "name": "stderr",
          "text": [
            "loss=0.052787382155656815 batch_id=468 Accurary=98.77: 100%|██████████| 469/469 [00:31<00:00, 15.10it/s]\n"
          ]
        },
        {
          "output_type": "stream",
          "name": "stdout",
          "text": [
            "\n",
            "Test set: Average loss: 0.0385, Accuracy: 9896/10000 (98.96%)\n",
            "\n"
          ]
        },
        {
          "output_type": "stream",
          "name": "stderr",
          "text": [
            "loss=0.05393590033054352 batch_id=468 Accurary=98.83: 100%|██████████| 469/469 [00:29<00:00, 15.71it/s]\n"
          ]
        },
        {
          "output_type": "stream",
          "name": "stdout",
          "text": [
            "\n",
            "Test set: Average loss: 0.0384, Accuracy: 9894/10000 (98.94%)\n",
            "\n"
          ]
        },
        {
          "output_type": "stream",
          "name": "stderr",
          "text": [
            "loss=0.08007518202066422 batch_id=468 Accurary=98.77: 100%|██████████| 469/469 [00:30<00:00, 15.43it/s]\n"
          ]
        },
        {
          "output_type": "stream",
          "name": "stdout",
          "text": [
            "\n",
            "Test set: Average loss: 0.0396, Accuracy: 9888/10000 (98.88%)\n",
            "\n"
          ]
        },
        {
          "output_type": "stream",
          "name": "stderr",
          "text": [
            "loss=0.057772934436798096 batch_id=468 Accurary=98.87: 100%|██████████| 469/469 [00:30<00:00, 15.60it/s]\n"
          ]
        },
        {
          "output_type": "stream",
          "name": "stdout",
          "text": [
            "\n",
            "Test set: Average loss: 0.0386, Accuracy: 9898/10000 (98.98%)\n",
            "\n"
          ]
        },
        {
          "output_type": "stream",
          "name": "stderr",
          "text": [
            "loss=0.034495044499635696 batch_id=468 Accurary=98.94: 100%|██████████| 469/469 [00:30<00:00, 15.46it/s]\n"
          ]
        },
        {
          "output_type": "stream",
          "name": "stdout",
          "text": [
            "\n",
            "Test set: Average loss: 0.0366, Accuracy: 9901/10000 (99.01%)\n",
            "\n"
          ]
        },
        {
          "output_type": "stream",
          "name": "stderr",
          "text": [
            "loss=0.01307518407702446 batch_id=468 Accurary=99.01: 100%|██████████| 469/469 [00:30<00:00, 15.38it/s]\n"
          ]
        },
        {
          "output_type": "stream",
          "name": "stdout",
          "text": [
            "\n",
            "Test set: Average loss: 0.0362, Accuracy: 9903/10000 (99.03%)\n",
            "\n"
          ]
        },
        {
          "output_type": "stream",
          "name": "stderr",
          "text": [
            "loss=0.015701912343502045 batch_id=468 Accurary=98.95: 100%|██████████| 469/469 [00:30<00:00, 15.45it/s]\n"
          ]
        },
        {
          "output_type": "stream",
          "name": "stdout",
          "text": [
            "\n",
            "Test set: Average loss: 0.0362, Accuracy: 9897/10000 (98.97%)\n",
            "\n"
          ]
        },
        {
          "output_type": "stream",
          "name": "stderr",
          "text": [
            "loss=0.0176866352558136 batch_id=468 Accurary=98.95: 100%|██████████| 469/469 [00:31<00:00, 14.84it/s]\n"
          ]
        },
        {
          "output_type": "stream",
          "name": "stdout",
          "text": [
            "\n",
            "Test set: Average loss: 0.0362, Accuracy: 9899/10000 (98.99%)\n",
            "\n"
          ]
        },
        {
          "output_type": "stream",
          "name": "stderr",
          "text": [
            "loss=0.07481466978788376 batch_id=468 Accurary=98.93: 100%|██████████| 469/469 [00:30<00:00, 15.54it/s]\n"
          ]
        },
        {
          "output_type": "stream",
          "name": "stdout",
          "text": [
            "\n",
            "Test set: Average loss: 0.0361, Accuracy: 9902/10000 (99.02%)\n",
            "\n"
          ]
        },
        {
          "output_type": "stream",
          "name": "stderr",
          "text": [
            "loss=0.05505127087235451 batch_id=468 Accurary=98.97: 100%|██████████| 469/469 [00:30<00:00, 15.49it/s]\n"
          ]
        },
        {
          "output_type": "stream",
          "name": "stdout",
          "text": [
            "\n",
            "Test set: Average loss: 0.0361, Accuracy: 9901/10000 (99.01%)\n",
            "\n"
          ]
        },
        {
          "output_type": "stream",
          "name": "stderr",
          "text": [
            "loss=0.017043476924300194 batch_id=468 Accurary=98.98: 100%|██████████| 469/469 [00:30<00:00, 15.59it/s]\n"
          ]
        },
        {
          "output_type": "stream",
          "name": "stdout",
          "text": [
            "\n",
            "Test set: Average loss: 0.0361, Accuracy: 9902/10000 (99.02%)\n",
            "\n"
          ]
        },
        {
          "output_type": "stream",
          "name": "stderr",
          "text": [
            "loss=0.05489261820912361 batch_id=468 Accurary=99.01: 100%|██████████| 469/469 [00:30<00:00, 15.60it/s]\n"
          ]
        },
        {
          "output_type": "stream",
          "name": "stdout",
          "text": [
            "\n",
            "Test set: Average loss: 0.0361, Accuracy: 9903/10000 (99.03%)\n",
            "\n"
          ]
        },
        {
          "output_type": "stream",
          "name": "stderr",
          "text": [
            "loss=0.023373974487185478 batch_id=468 Accurary=98.97: 100%|██████████| 469/469 [00:30<00:00, 15.52it/s]\n"
          ]
        },
        {
          "output_type": "stream",
          "name": "stdout",
          "text": [
            "\n",
            "Test set: Average loss: 0.0361, Accuracy: 9903/10000 (99.03%)\n",
            "\n"
          ]
        },
        {
          "output_type": "stream",
          "name": "stderr",
          "text": [
            "loss=0.022435786202549934 batch_id=468 Accurary=99.01: 100%|██████████| 469/469 [00:30<00:00, 15.59it/s]\n"
          ]
        },
        {
          "output_type": "stream",
          "name": "stdout",
          "text": [
            "\n",
            "Test set: Average loss: 0.0361, Accuracy: 9903/10000 (99.03%)\n",
            "\n"
          ]
        },
        {
          "output_type": "stream",
          "name": "stderr",
          "text": [
            "loss=0.20637279748916626 batch_id=468 Accurary=92.06: 100%|██████████| 469/469 [00:31<00:00, 14.93it/s]\n"
          ]
        },
        {
          "output_type": "stream",
          "name": "stdout",
          "text": [
            "\n",
            "Test set: Average loss: 0.1492, Accuracy: 9553/10000 (95.53%)\n",
            "\n"
          ]
        },
        {
          "output_type": "stream",
          "name": "stderr",
          "text": [
            "loss=0.07724948972463608 batch_id=468 Accurary=97.67: 100%|██████████| 469/469 [00:30<00:00, 15.51it/s]\n"
          ]
        },
        {
          "output_type": "stream",
          "name": "stdout",
          "text": [
            "\n",
            "Test set: Average loss: 0.0743, Accuracy: 9778/10000 (97.78%)\n",
            "\n"
          ]
        },
        {
          "output_type": "stream",
          "name": "stderr",
          "text": [
            "loss=0.07818984240293503 batch_id=468 Accurary=98.19: 100%|██████████| 469/469 [00:30<00:00, 15.59it/s]\n"
          ]
        },
        {
          "output_type": "stream",
          "name": "stdout",
          "text": [
            "\n",
            "Test set: Average loss: 0.0746, Accuracy: 9785/10000 (97.85%)\n",
            "\n"
          ]
        },
        {
          "output_type": "stream",
          "name": "stderr",
          "text": [
            "loss=0.08457624167203903 batch_id=468 Accurary=98.32: 100%|██████████| 469/469 [00:30<00:00, 15.53it/s]\n"
          ]
        },
        {
          "output_type": "stream",
          "name": "stdout",
          "text": [
            "\n",
            "Test set: Average loss: 0.0590, Accuracy: 9814/10000 (98.14%)\n",
            "\n"
          ]
        },
        {
          "output_type": "stream",
          "name": "stderr",
          "text": [
            "loss=0.03920814022421837 batch_id=468 Accurary=98.55: 100%|██████████| 469/469 [00:29<00:00, 15.73it/s]\n"
          ]
        },
        {
          "output_type": "stream",
          "name": "stdout",
          "text": [
            "\n",
            "Test set: Average loss: 0.0586, Accuracy: 9806/10000 (98.06%)\n",
            "\n"
          ]
        },
        {
          "output_type": "stream",
          "name": "stderr",
          "text": [
            "loss=0.006090593058615923 batch_id=468 Accurary=98.90: 100%|██████████| 469/469 [00:30<00:00, 15.47it/s]\n"
          ]
        },
        {
          "output_type": "stream",
          "name": "stdout",
          "text": [
            "\n",
            "Test set: Average loss: 0.0250, Accuracy: 9919/10000 (99.19%)\n",
            "\n"
          ]
        },
        {
          "output_type": "stream",
          "name": "stderr",
          "text": [
            "loss=0.055537547916173935 batch_id=468 Accurary=99.05: 100%|██████████| 469/469 [00:30<00:00, 15.63it/s]\n"
          ]
        },
        {
          "output_type": "stream",
          "name": "stdout",
          "text": [
            "\n",
            "Test set: Average loss: 0.0245, Accuracy: 9929/10000 (99.29%)\n",
            "\n"
          ]
        },
        {
          "output_type": "stream",
          "name": "stderr",
          "text": [
            "loss=0.018239304423332214 batch_id=468 Accurary=99.14: 100%|██████████| 469/469 [00:29<00:00, 15.64it/s]\n"
          ]
        },
        {
          "output_type": "stream",
          "name": "stdout",
          "text": [
            "\n",
            "Test set: Average loss: 0.0232, Accuracy: 9931/10000 (99.31%)\n",
            "\n"
          ]
        },
        {
          "output_type": "stream",
          "name": "stderr",
          "text": [
            "loss=0.0878034234046936 batch_id=468 Accurary=99.15: 100%|██████████| 469/469 [00:30<00:00, 15.52it/s]\n"
          ]
        },
        {
          "output_type": "stream",
          "name": "stdout",
          "text": [
            "\n",
            "Test set: Average loss: 0.0230, Accuracy: 9931/10000 (99.31%)\n",
            "\n"
          ]
        },
        {
          "output_type": "stream",
          "name": "stderr",
          "text": [
            "loss=0.026835380122065544 batch_id=468 Accurary=99.14: 100%|██████████| 469/469 [00:30<00:00, 15.48it/s]\n"
          ]
        },
        {
          "output_type": "stream",
          "name": "stdout",
          "text": [
            "\n",
            "Test set: Average loss: 0.0229, Accuracy: 9925/10000 (99.25%)\n",
            "\n"
          ]
        },
        {
          "output_type": "stream",
          "name": "stderr",
          "text": [
            "loss=0.011661839671432972 batch_id=468 Accurary=99.21: 100%|██████████| 469/469 [00:30<00:00, 15.43it/s]\n"
          ]
        },
        {
          "output_type": "stream",
          "name": "stdout",
          "text": [
            "\n",
            "Test set: Average loss: 0.0224, Accuracy: 9928/10000 (99.28%)\n",
            "\n"
          ]
        },
        {
          "output_type": "stream",
          "name": "stderr",
          "text": [
            "loss=0.038524165749549866 batch_id=468 Accurary=99.22: 100%|██████████| 469/469 [00:30<00:00, 15.57it/s]\n"
          ]
        },
        {
          "output_type": "stream",
          "name": "stdout",
          "text": [
            "\n",
            "Test set: Average loss: 0.0222, Accuracy: 9933/10000 (99.33%)\n",
            "\n"
          ]
        },
        {
          "output_type": "stream",
          "name": "stderr",
          "text": [
            "loss=0.05538066104054451 batch_id=468 Accurary=99.24: 100%|██████████| 469/469 [00:30<00:00, 15.57it/s]\n"
          ]
        },
        {
          "output_type": "stream",
          "name": "stdout",
          "text": [
            "\n",
            "Test set: Average loss: 0.0221, Accuracy: 9934/10000 (99.34%)\n",
            "\n"
          ]
        },
        {
          "output_type": "stream",
          "name": "stderr",
          "text": [
            "loss=0.029477840289473534 batch_id=468 Accurary=99.20: 100%|██████████| 469/469 [00:31<00:00, 15.03it/s]\n"
          ]
        },
        {
          "output_type": "stream",
          "name": "stdout",
          "text": [
            "\n",
            "Test set: Average loss: 0.0223, Accuracy: 9934/10000 (99.34%)\n",
            "\n"
          ]
        },
        {
          "output_type": "stream",
          "name": "stderr",
          "text": [
            "loss=0.005854039918631315 batch_id=468 Accurary=99.19: 100%|██████████| 469/469 [00:30<00:00, 15.58it/s]\n"
          ]
        },
        {
          "output_type": "stream",
          "name": "stdout",
          "text": [
            "\n",
            "Test set: Average loss: 0.0225, Accuracy: 9932/10000 (99.32%)\n",
            "\n"
          ]
        },
        {
          "output_type": "stream",
          "name": "stderr",
          "text": [
            "loss=0.04733135178685188 batch_id=468 Accurary=99.23: 100%|██████████| 469/469 [00:29<00:00, 15.66it/s]\n"
          ]
        },
        {
          "output_type": "stream",
          "name": "stdout",
          "text": [
            "\n",
            "Test set: Average loss: 0.0221, Accuracy: 9935/10000 (99.35%)\n",
            "\n"
          ]
        },
        {
          "output_type": "stream",
          "name": "stderr",
          "text": [
            "loss=0.01942499727010727 batch_id=468 Accurary=99.23: 100%|██████████| 469/469 [00:29<00:00, 15.66it/s]\n"
          ]
        },
        {
          "output_type": "stream",
          "name": "stdout",
          "text": [
            "\n",
            "Test set: Average loss: 0.0222, Accuracy: 9931/10000 (99.31%)\n",
            "\n"
          ]
        },
        {
          "output_type": "stream",
          "name": "stderr",
          "text": [
            "loss=0.039857275784015656 batch_id=468 Accurary=99.22: 100%|██████████| 469/469 [00:30<00:00, 15.56it/s]\n"
          ]
        },
        {
          "output_type": "stream",
          "name": "stdout",
          "text": [
            "\n",
            "Test set: Average loss: 0.0220, Accuracy: 9932/10000 (99.32%)\n",
            "\n"
          ]
        },
        {
          "output_type": "stream",
          "name": "stderr",
          "text": [
            "loss=0.01285627018660307 batch_id=468 Accurary=99.25: 100%|██████████| 469/469 [00:29<00:00, 15.67it/s]\n"
          ]
        },
        {
          "output_type": "stream",
          "name": "stdout",
          "text": [
            "\n",
            "Test set: Average loss: 0.0226, Accuracy: 9929/10000 (99.29%)\n",
            "\n"
          ]
        },
        {
          "output_type": "stream",
          "name": "stderr",
          "text": [
            "loss=0.019055142998695374 batch_id=468 Accurary=99.24: 100%|██████████| 469/469 [00:29<00:00, 15.71it/s]\n"
          ]
        },
        {
          "output_type": "stream",
          "name": "stdout",
          "text": [
            "\n",
            "Test set: Average loss: 0.0220, Accuracy: 9931/10000 (99.31%)\n",
            "\n"
          ]
        },
        {
          "output_type": "display_data",
          "data": {
            "text/plain": [
              "<Figure size 432x288 with 2 Axes>"
            ],
            "image/png": "[encoded data removed]"
          },
          "metadata": {
            "needs_background": "light"
          }
        }
      ],
      "source": [
        "import torch\n",
        "import model\n",
        "from torch.optim.lr_scheduler import StepLR\n",
        "import torch.optim as optim\n",
        "from torchvision import datasets, transforms\n",
        "import matplotlib.pyplot as plt\n",
        "\n",
        "norm_list = ['LN','GN','BN']\n",
        "use_cuda = torch.cuda.is_available()\n",
        "device = torch.device(\"cuda\" if use_cuda else \"cpu\")\n",
        "\n",
        "train_loss_lst_BN = []\n",
        "test_loss_lst_BN = []\n",
        "\n",
        "train_loss_lst_GN = []\n",
        "test_loss_lst_GN = []\n",
        "\n",
        "train_loss_lst_LN = []\n",
        "test_loss_lst_LN = []\n",
        "\n",
        "train_acur_lst_BN = []\n",
        "test_acur_lst_BN = []\n",
        "\n",
        "train_acur_lst_GN = []\n",
        "test_acur_lst_GN = []\n",
        "\n",
        "train_acur_lst_LN = []\n",
        "test_acur_lst_LN = []\n",
        "\n",
        "for norm in norm_list:\n",
        "  my_model = model.Net(norm).to(device)\n",
        "  optimizer = optim.SGD(my_model.parameters(), lr=0.4, momentum=0.9)\n",
        "  schedular = StepLR(optimizer=optimizer,step_size=5,gamma=0.1)\n",
        "  my_train_loader = mnist_train_loader()\n",
        "  my_test_loader = mnist_test_loader()\n",
        "  loss_train = 0\n",
        "  loss_val = 0\n",
        "  accur_train = 0\n",
        "  accur_val = 0\n",
        "  for epoch in range(20):\n",
        "      #print(f'Epoch--> {epoch+1}')\n",
        "      loss_train,accur_train = train(my_model, device,my_train_loader , optimizer, epoch)\n",
        "      #print(\"Current learning rate:\", optimizer.param_groups[0]['lr'])\n",
        "      schedular.step()\n",
        "      loss_val,accur_val = test(my_model, device,my_test_loader)\n",
        "      \n",
        "      if norm == 'BN':\n",
        "        train_loss_lst_BN.append(loss_train)\n",
        "        test_loss_lst_BN.append(loss_val)\n",
        "        train_acur_lst_BN.append(accur_train)\n",
        "        test_acur_lst_BN.append(accur_val)\n",
        "      elif norm == 'LN':\n",
        "        train_loss_lst_LN.append(loss_train)\n",
        "        test_loss_lst_LN.append(loss_val)\n",
        "        train_acur_lst_LN.append(accur_train)\n",
        "        test_acur_lst_LN.append(accur_val)\n",
        "      else :\n",
        "        train_loss_lst_GN.append(loss_train)\n",
        "        test_loss_lst_GN.append(loss_val)\n",
        "        train_acur_lst_GN.append(accur_train)\n",
        "        test_acur_lst_GN.append(accur_val)\n",
        "\n",
        "\n",
        "\n",
        "# Plot the training and validation losses\n",
        "plt.subplot(1,2,1)\n",
        "plt.title(\"Train and validation losses\")\n",
        "plt.plot(train_loss_lst_BN,color= 'blue', label='Training Loss (BN)')\n",
        "plt.plot(test_loss_lst_BN,color= 'red', label='Validation Loss (BN)')\n",
        "plt.plot(train_loss_lst_GN,color= 'green', label='Training Loss (GN)')\n",
        "plt.plot(test_loss_lst_GN,color= 'black', label='Validation Loss (GN)')\n",
        "plt.plot(train_loss_lst_LN,color= 'yellow', label='Training Loss (LN)')\n",
        "plt.plot(test_loss_lst_LN,color= 'cyan', label='Validation Loss (LN)')\n",
        "plt.xlabel('Epoch')\n",
        "plt.ylabel('Loss')\n",
        "plt.legend()\n",
        "plt.subplot(1,2,2)\n",
        "plt.title(\"Train and validation accuracy\")\n",
        "plt.plot(train_acur_lst_BN,color= 'blue', label='Training Accuracy (BN)')\n",
        "plt.plot(test_acur_lst_BN,color= 'red', label='Validation Accuracy (BN)')\n",
        "plt.plot(train_acur_lst_GN,color= 'green', label='Training Accuracy (GN)')\n",
        "plt.plot(test_acur_lst_GN,color= 'black', label='Validation Accuracy (GN)')\n",
        "plt.plot(train_acur_lst_LN,color= 'yellow', label='Training Accuracy (LN)')\n",
        "plt.plot(test_acur_lst_LN,color= 'cyan', label='Validation Accuracy (LN)')\n",
        "plt.xlabel('Epoch')\n",
        "plt.ylabel('Accuracy')\n",
        "plt.legend()\n",
        "plt.show()\n",
        "\n",
        "\n",
        "\n"
      ]
    }
  ]
}